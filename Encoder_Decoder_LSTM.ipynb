{
 "cells": [
  {
   "cell_type": "code",
   "execution_count": 6,
   "metadata": {},
   "outputs": [],
   "source": [
    "import pandas as pd\n",
    "import numpy as np\n",
    "from keras.preprocessing import text as keras_text, sequence as keras_seq"
   ]
  },
  {
   "cell_type": "code",
   "execution_count": 5,
   "metadata": {},
   "outputs": [
    {
     "name": "stderr",
     "output_type": "stream",
     "text": [
      "Using TensorFlow backend.\n"
     ]
    }
   ],
   "source": [
    "from keras.models import Sequential\n",
    "from keras.layers import LSTM,Dense,TimeDistributed,Activation,MaxPooling2D,Embedding,RepeatVector"
   ]
  },
  {
   "cell_type": "code",
   "execution_count": 3,
   "metadata": {},
   "outputs": [],
   "source": [
    "data=pd.read_csv(\"new_pro_geo_language\")"
   ]
  },
  {
   "cell_type": "code",
   "execution_count": 7,
   "metadata": {},
   "outputs": [
    {
     "data": {
      "text/html": [
       "<div>\n",
       "<style scoped>\n",
       "    .dataframe tbody tr th:only-of-type {\n",
       "        vertical-align: middle;\n",
       "    }\n",
       "\n",
       "    .dataframe tbody tr th {\n",
       "        vertical-align: top;\n",
       "    }\n",
       "\n",
       "    .dataframe thead th {\n",
       "        text-align: right;\n",
       "    }\n",
       "</style>\n",
       "<table border=\"1\" class=\"dataframe\">\n",
       "  <thead>\n",
       "    <tr style=\"text-align: right;\">\n",
       "      <th></th>\n",
       "      <th>0</th>\n",
       "      <th>Geo_language</th>\n",
       "    </tr>\n",
       "  </thead>\n",
       "  <tbody>\n",
       "    <tr>\n",
       "      <th>0</th>\n",
       "      <td>['MNF', 'LWK', 'GRR', 'FLI', 'AGIL', 'PTF', 'E...</td>\n",
       "      <td>AMLL AMOH AFJU AFLI AEYW AENH AEGT</td>\n",
       "    </tr>\n",
       "    <tr>\n",
       "      <th>1</th>\n",
       "      <td>['MEN', 'EREK', 'QVY', 'LAKL', 'SEQ', 'TER', '...</td>\n",
       "      <td>AZHN AZBT AZUC AWST AWTU AROP ARIG ARKO AQVR A...</td>\n",
       "    </tr>\n",
       "    <tr>\n",
       "      <th>2</th>\n",
       "      <td>['MAT', 'PGAS', 'SAR', 'DEF', 'VYM', 'AKLA', '...</td>\n",
       "      <td>AWJB AWST AWTU</td>\n",
       "    </tr>\n",
       "    <tr>\n",
       "      <th>3</th>\n",
       "      <td>['MSD', 'TVEE', 'LVQ', 'RAKL', 'AEQ', 'AER', '...</td>\n",
       "      <td>BPFK BPEP BOXG BPGG BOYY BOZD BPRR BRHZ BRJO B...</td>\n",
       "    </tr>\n",
       "    <tr>\n",
       "      <th>4</th>\n",
       "      <td>['MAS', 'AELS', 'REE', 'NVY', 'MAK', 'LAEQ', '...</td>\n",
       "      <td>AWGJ AZWC AWJB AWST AWTU</td>\n",
       "    </tr>\n",
       "  </tbody>\n",
       "</table>\n",
       "</div>"
      ],
      "text/plain": [
       "                                                   0  \\\n",
       "0  ['MNF', 'LWK', 'GRR', 'FLI', 'AGIL', 'PTF', 'E...   \n",
       "1  ['MEN', 'EREK', 'QVY', 'LAKL', 'SEQ', 'TER', '...   \n",
       "2  ['MAT', 'PGAS', 'SAR', 'DEF', 'VYM', 'AKLA', '...   \n",
       "3  ['MSD', 'TVEE', 'LVQ', 'RAKL', 'AEQ', 'AER', '...   \n",
       "4  ['MAS', 'AELS', 'REE', 'NVY', 'MAK', 'LAEQ', '...   \n",
       "\n",
       "                                        Geo_language  \n",
       "0                 AMLL AMOH AFJU AFLI AEYW AENH AEGT  \n",
       "1  AZHN AZBT AZUC AWST AWTU AROP ARIG ARKO AQVR A...  \n",
       "2                                     AWJB AWST AWTU  \n",
       "3  BPFK BPEP BOXG BPGG BOYY BOZD BPRR BRHZ BRJO B...  \n",
       "4                           AWGJ AZWC AWJB AWST AWTU  "
      ]
     },
     "execution_count": 7,
     "metadata": {},
     "output_type": "execute_result"
    }
   ],
   "source": [
    "data.head()"
   ]
  },
  {
   "cell_type": "code",
   "execution_count": 16,
   "metadata": {},
   "outputs": [],
   "source": [
    "pro_lang=data[\"0\"]\n",
    "geo_lang=data[\"Geo_language\"].astype(\"str\")"
   ]
  },
  {
   "cell_type": "code",
   "execution_count": null,
   "metadata": {},
   "outputs": [],
   "source": [
    "####tokenizer pro_lang"
   ]
  },
  {
   "cell_type": "code",
   "execution_count": 18,
   "metadata": {},
   "outputs": [],
   "source": [
    "tokenizer = keras_text.Tokenizer(char_level = False) #\n",
    "t=tokenizer.fit_on_texts(list(pro_lang))\n",
    "list_tokenized_train = tokenizer.texts_to_sequences(pro_lang)\n",
    "X = keras_seq.pad_sequences(list_tokenized_train, maxlen=1000,padding=\"post\") #maxlen padding 100"
   ]
  },
  {
   "cell_type": "code",
   "execution_count": null,
   "metadata": {},
   "outputs": [],
   "source": []
  },
  {
   "cell_type": "code",
   "execution_count": null,
   "metadata": {},
   "outputs": [],
   "source": [
    "####tokenizer geo_lang"
   ]
  },
  {
   "cell_type": "code",
   "execution_count": 19,
   "metadata": {},
   "outputs": [],
   "source": [
    "tokenizer = keras_text.Tokenizer(char_level = False,lower=False) #\n",
    "t=tokenizer.fit_on_texts(list(geo_lang))\n",
    "list_tokenized_train = tokenizer.texts_to_sequences(geo_lang)\n",
    "Y= keras_seq.pad_sequences(list_tokenized_train, maxlen=930,padding=\"post\") #maxlen padding 100"
   ]
  },
  {
   "cell_type": "code",
   "execution_count": 24,
   "metadata": {},
   "outputs": [
    {
     "data": {
      "text/plain": [
       "929"
      ]
     },
     "execution_count": 24,
     "metadata": {},
     "output_type": "execute_result"
    }
   ],
   "source": [
    "max(tokenizer.word_index.values())"
   ]
  },
  {
   "cell_type": "code",
   "execution_count": 7,
   "metadata": {},
   "outputs": [],
   "source": [
    "max_len=1000\n",
    "output=930"
   ]
  },
  {
   "cell_type": "code",
   "execution_count": 21,
   "metadata": {},
   "outputs": [
    {
     "name": "stdout",
     "output_type": "stream",
     "text": [
      "_________________________________________________________________\n",
      "Layer (type)                 Output Shape              Param #   \n",
      "=================================================================\n",
      "embedding_6 (Embedding)      (None, 1000, 100)         1488700   \n",
      "_________________________________________________________________\n",
      "lstm_13 (LSTM)               (None, 1000, 500)         1202000   \n",
      "_________________________________________________________________\n",
      "lstm_14 (LSTM)               (None, 200)               560800    \n",
      "_________________________________________________________________\n",
      "repeat_vector_5 (RepeatVecto (None, 100, 200)          0         \n",
      "=================================================================\n",
      "Total params: 3,251,500\n",
      "Trainable params: 3,251,500\n",
      "Non-trainable params: 0\n",
      "_________________________________________________________________\n"
     ]
    }
   ],
   "source": [
    "Encoder= Sequential()\n",
    "Encoder.add(Embedding(14887,100,input_length=max_len))\n",
    "Encoder.add(LSTM(500,return_sequences=True,recurrent_dropout=0.5))\n",
    "Encoder.add(LSTM(200,recurrent_dropout=0.5))\n",
    "Encoder.add(RepeatVector(100))\n",
    "Encoder.summary()"
   ]
  },
  {
   "cell_type": "code",
   "execution_count": 14,
   "metadata": {},
   "outputs": [],
   "source": [
    "encoder_shape=Encoder.output_shape[1:]"
   ]
  },
  {
   "cell_type": "code",
   "execution_count": 22,
   "metadata": {},
   "outputs": [
    {
     "data": {
      "text/plain": [
       "(None, 100, 200)"
      ]
     },
     "execution_count": 22,
     "metadata": {},
     "output_type": "execute_result"
    }
   ],
   "source": [
    "Encoder.output_shape"
   ]
  },
  {
   "cell_type": "code",
   "execution_count": 23,
   "metadata": {},
   "outputs": [
    {
     "name": "stdout",
     "output_type": "stream",
     "text": [
      "_________________________________________________________________\n",
      "Layer (type)                 Output Shape              Param #   \n",
      "=================================================================\n",
      "lstm_15 (LSTM)               (None, 100, 200)          320800    \n",
      "_________________________________________________________________\n",
      "lstm_16 (LSTM)               (None, 500)               1402000   \n",
      "_________________________________________________________________\n",
      "dense_3 (Dense)              (None, 930)               465930    \n",
      "_________________________________________________________________\n",
      "activation_3 (Activation)    (None, 930)               0         \n",
      "=================================================================\n",
      "Total params: 2,188,730\n",
      "Trainable params: 2,188,730\n",
      "Non-trainable params: 0\n",
      "_________________________________________________________________\n"
     ]
    }
   ],
   "source": [
    "Decoder=Sequential()\n",
    "Decoder.add(LSTM(200,input_shape=encoder_shape,return_sequences=True))\n",
    "Decoder.add(LSTM(500))\n",
    "Decoder.add(Dense(output))\n",
    "Decoder.add(Activation(\"relu\"))    ## use relu \n",
    "Decoder.summary()"
   ]
  },
  {
   "cell_type": "code",
   "execution_count": 24,
   "metadata": {},
   "outputs": [
    {
     "name": "stdout",
     "output_type": "stream",
     "text": [
      "_________________________________________________________________\n",
      "Layer (type)                 Output Shape              Param #   \n",
      "=================================================================\n",
      "sequential_11 (Sequential)   (None, 100, 200)          3251500   \n",
      "_________________________________________________________________\n",
      "sequential_12 (Sequential)   (None, 930)               2188730   \n",
      "=================================================================\n",
      "Total params: 5,440,230\n",
      "Trainable params: 5,440,230\n",
      "Non-trainable params: 0\n",
      "_________________________________________________________________\n"
     ]
    }
   ],
   "source": [
    "final_model=Sequential([Encoder,Decoder])\n",
    "final_model.compile( optimizer = 'rmsprop', loss = \"MSE\",metrics = ['accuracy'] )\n",
    "final_model.summary()"
   ]
  },
  {
   "cell_type": "code",
   "execution_count": 1,
   "metadata": {},
   "outputs": [],
   "source": [
    "model.fit(X,Y, batch_size =64,epochs =6,class_weight='balanced')"
   ]
  },
  {
   "cell_type": "code",
   "execution_count": 25,
   "metadata": {},
   "outputs": [],
   "source": [
    "Decoder.model(LSTM?"
   ]
  },
  {
   "cell_type": "code",
   "execution_count": null,
   "metadata": {},
   "outputs": [],
   "source": [
    "Decoder.model(LSTM"
   ]
  },
  {
   "cell_type": "code",
   "execution_count": null,
   "metadata": {},
   "outputs": [],
   "source": []
  },
  {
   "cell_type": "code",
   "execution_count": null,
   "metadata": {},
   "outputs": [],
   "source": []
  },
  {
   "cell_type": "code",
   "execution_count": null,
   "metadata": {},
   "outputs": [],
   "source": []
  },
  {
   "cell_type": "code",
   "execution_count": null,
   "metadata": {},
   "outputs": [],
   "source": []
  }
 ],
 "metadata": {
  "kernelspec": {
   "display_name": "Python 2",
   "language": "python",
   "name": "python2"
  },
  "language_info": {
   "codemirror_mode": {
    "name": "ipython",
    "version": 2
   },
   "file_extension": ".py",
   "mimetype": "text/x-python",
   "name": "python",
   "nbconvert_exporter": "python",
   "pygments_lexer": "ipython2",
   "version": "2.7.15rc1"
  }
 },
 "nbformat": 4,
 "nbformat_minor": 2
}
