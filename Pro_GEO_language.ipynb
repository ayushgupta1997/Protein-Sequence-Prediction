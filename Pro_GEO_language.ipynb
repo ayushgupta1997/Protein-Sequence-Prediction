{
 "cells": [
  {
   "cell_type": "code",
   "execution_count": 2,
   "metadata": {},
   "outputs": [],
   "source": [
    "import pandas as pd\n",
    "import numpy as np"
   ]
  },
  {
   "cell_type": "code",
   "execution_count": 2,
   "metadata": {},
   "outputs": [
    {
     "data": {
      "text/plain": [
       "(43, 362)"
      ]
     },
     "execution_count": 2,
     "metadata": {},
     "output_type": "execute_result"
    }
   ],
   "source": [
    "43,362"
   ]
  },
  {
   "cell_type": "code",
   "execution_count": 3,
   "metadata": {},
   "outputs": [],
   "source": [
    "node_=pd.read_csv(\"bp.csv\")"
   ]
  },
  {
   "cell_type": "code",
   "execution_count": 4,
   "metadata": {},
   "outputs": [
    {
     "data": {
      "text/html": [
       "<div>\n",
       "<style scoped>\n",
       "    .dataframe tbody tr th:only-of-type {\n",
       "        vertical-align: middle;\n",
       "    }\n",
       "\n",
       "    .dataframe tbody tr th {\n",
       "        vertical-align: top;\n",
       "    }\n",
       "\n",
       "    .dataframe thead th {\n",
       "        text-align: right;\n",
       "    }\n",
       "</style>\n",
       "<table border=\"1\" class=\"dataframe\">\n",
       "  <thead>\n",
       "    <tr style=\"text-align: right;\">\n",
       "      <th></th>\n",
       "      <th>Unnamed: 0</th>\n",
       "      <th>functions</th>\n",
       "    </tr>\n",
       "  </thead>\n",
       "  <tbody>\n",
       "    <tr>\n",
       "      <th>0</th>\n",
       "      <td>0</td>\n",
       "      <td>GO:0007626</td>\n",
       "    </tr>\n",
       "    <tr>\n",
       "      <th>1</th>\n",
       "      <td>1</td>\n",
       "      <td>GO:0007611</td>\n",
       "    </tr>\n",
       "    <tr>\n",
       "      <th>2</th>\n",
       "      <td>2</td>\n",
       "      <td>GO:0044708</td>\n",
       "    </tr>\n",
       "    <tr>\n",
       "      <th>3</th>\n",
       "      <td>3</td>\n",
       "      <td>GO:0007610</td>\n",
       "    </tr>\n",
       "    <tr>\n",
       "      <th>4</th>\n",
       "      <td>4</td>\n",
       "      <td>GO:0007268</td>\n",
       "    </tr>\n",
       "  </tbody>\n",
       "</table>\n",
       "</div>"
      ],
      "text/plain": [
       "   Unnamed: 0   functions\n",
       "0           0  GO:0007626\n",
       "1           1  GO:0007611\n",
       "2           2  GO:0044708\n",
       "3           3  GO:0007610\n",
       "4           4  GO:0007268"
      ]
     },
     "execution_count": 4,
     "metadata": {},
     "output_type": "execute_result"
    }
   ],
   "source": [
    "node_.head()"
   ]
  },
  {
   "cell_type": "code",
   "execution_count": 5,
   "metadata": {},
   "outputs": [],
   "source": [
    "geo_node={}\n",
    "for ix in range(len(node_[\"functions\"])):\n",
    "    gj=node_[\"functions\"][ix].strip(\"GO:\")\n",
    "    geo_node[int(node_.iloc[ix,0])]=int(gj)\n",
    "    #print int(gj)\n",
    "    "
   ]
  },
  {
   "cell_type": "code",
   "execution_count": 6,
   "metadata": {},
   "outputs": [],
   "source": [
    "#geo_node  it contains key poistion values as Geo_term"
   ]
  },
  {
   "cell_type": "code",
   "execution_count": 7,
   "metadata": {},
   "outputs": [],
   "source": [
    "f=open(\"DFS_number_1.txt\",\"r\") ### this file contains Geo function and node no\n",
    "file_read=f.readlines()\n",
    "dfs_no=[]\n",
    "for ix in range(len(file_read)):\n",
    "    bb=[]\n",
    "    B=file_read[ix].strip(\"\\r\\n\")\n",
    "    ll=B.split(\" \")\n",
    "    bb.append(int(ll[0]))\n",
    "    bb.append(int(ll[2]))\n",
    "    dfs_no.append(bb)"
   ]
  },
  {
   "cell_type": "code",
   "execution_count": 8,
   "metadata": {},
   "outputs": [],
   "source": [
    "dfs_no=np.array(dfs_no)"
   ]
  },
  {
   "cell_type": "code",
   "execution_count": 9,
   "metadata": {},
   "outputs": [],
   "source": [
    "d={}    ### copy the node no crossponding geo function\n",
    "for ix in geo_node.values():\n",
    "    for ixx in range(dfs_no.shape[0]):\n",
    "        if ix==dfs_no[ixx,0]:\n",
    "            d[ix]=dfs_no[ixx,1]"
   ]
  },
  {
   "cell_type": "code",
   "execution_count": 10,
   "metadata": {},
   "outputs": [
    {
     "data": {
      "text/plain": [
       "930"
      ]
     },
     "execution_count": 10,
     "metadata": {},
     "output_type": "execute_result"
    }
   ],
   "source": [
    "len(d)"
   ]
  },
  {
   "cell_type": "code",
   "execution_count": 11,
   "metadata": {},
   "outputs": [
    {
     "name": "stdout",
     "output_type": "stream",
     "text": [
      "16568\n",
      "1903308\n"
     ]
    }
   ],
   "source": [
    "for ix in geo_node.values():\n",
    "    if ix not in dfs_no[:,0]:\n",
    "        print ix"
   ]
  },
  {
   "cell_type": "code",
   "execution_count": 12,
   "metadata": {},
   "outputs": [],
   "source": [
    "# data frame which contains ,function node no and associated word\n",
    "data_word=pd.DataFrame(columns=[\"function\",\"node_no\",\"word\"])"
   ]
  },
  {
   "cell_type": "code",
   "execution_count": 13,
   "metadata": {},
   "outputs": [
    {
     "data": {
      "text/html": [
       "<div>\n",
       "<style scoped>\n",
       "    .dataframe tbody tr th:only-of-type {\n",
       "        vertical-align: middle;\n",
       "    }\n",
       "\n",
       "    .dataframe tbody tr th {\n",
       "        vertical-align: top;\n",
       "    }\n",
       "\n",
       "    .dataframe thead th {\n",
       "        text-align: right;\n",
       "    }\n",
       "</style>\n",
       "<table border=\"1\" class=\"dataframe\">\n",
       "  <thead>\n",
       "    <tr style=\"text-align: right;\">\n",
       "      <th></th>\n",
       "      <th>function</th>\n",
       "      <th>node_no</th>\n",
       "      <th>word</th>\n",
       "    </tr>\n",
       "  </thead>\n",
       "  <tbody>\n",
       "  </tbody>\n",
       "</table>\n",
       "</div>"
      ],
      "text/plain": [
       "Empty DataFrame\n",
       "Columns: [function, node_no, word]\n",
       "Index: []"
      ]
     },
     "execution_count": 13,
     "metadata": {},
     "output_type": "execute_result"
    }
   ],
   "source": [
    "data_word"
   ]
  },
  {
   "cell_type": "code",
   "execution_count": 14,
   "metadata": {},
   "outputs": [],
   "source": [
    "data_word[\"function\"]=d.keys()\n",
    "data_word[\"node_no\"]=d.values()"
   ]
  },
  {
   "cell_type": "code",
   "execution_count": 15,
   "metadata": {},
   "outputs": [
    {
     "data": {
      "text/html": [
       "<div>\n",
       "<style scoped>\n",
       "    .dataframe tbody tr th:only-of-type {\n",
       "        vertical-align: middle;\n",
       "    }\n",
       "\n",
       "    .dataframe tbody tr th {\n",
       "        vertical-align: top;\n",
       "    }\n",
       "\n",
       "    .dataframe thead th {\n",
       "        text-align: right;\n",
       "    }\n",
       "</style>\n",
       "<table border=\"1\" class=\"dataframe\">\n",
       "  <thead>\n",
       "    <tr style=\"text-align: right;\">\n",
       "      <th></th>\n",
       "      <th>function</th>\n",
       "      <th>node_no</th>\n",
       "      <th>word</th>\n",
       "    </tr>\n",
       "  </thead>\n",
       "  <tbody>\n",
       "    <tr>\n",
       "      <th>0</th>\n",
       "      <td>3</td>\n",
       "      <td>3</td>\n",
       "      <td>NaN</td>\n",
       "    </tr>\n",
       "    <tr>\n",
       "      <th>1</th>\n",
       "      <td>32774</td>\n",
       "      <td>2308</td>\n",
       "      <td>NaN</td>\n",
       "    </tr>\n",
       "    <tr>\n",
       "      <th>2</th>\n",
       "      <td>8202</td>\n",
       "      <td>4163</td>\n",
       "      <td>NaN</td>\n",
       "    </tr>\n",
       "    <tr>\n",
       "      <th>3</th>\n",
       "      <td>32787</td>\n",
       "      <td>4958</td>\n",
       "      <td>NaN</td>\n",
       "    </tr>\n",
       "    <tr>\n",
       "      <th>4</th>\n",
       "      <td>51222</td>\n",
       "      <td>15701</td>\n",
       "      <td>NaN</td>\n",
       "    </tr>\n",
       "  </tbody>\n",
       "</table>\n",
       "</div>"
      ],
      "text/plain": [
       "   function  node_no word\n",
       "0         3        3  NaN\n",
       "1     32774     2308  NaN\n",
       "2      8202     4163  NaN\n",
       "3     32787     4958  NaN\n",
       "4     51222    15701  NaN"
      ]
     },
     "execution_count": 15,
     "metadata": {},
     "output_type": "execute_result"
    }
   ],
   "source": [
    "data_word.head()"
   ]
  },
  {
   "cell_type": "code",
   "execution_count": 16,
   "metadata": {},
   "outputs": [
    {
     "data": {
      "text/plain": [
       "(930, 3)"
      ]
     },
     "execution_count": 16,
     "metadata": {},
     "output_type": "execute_result"
    }
   ],
   "source": [
    "data_word.shape"
   ]
  },
  {
   "cell_type": "code",
   "execution_count": 17,
   "metadata": {},
   "outputs": [],
   "source": [
    "albha=[\"A\",\"B\",\"C\",\"D\",\"E\",\"F\",\"G\",\"H\",\"I\",\"J\",\"K\",\"L\",\"M\",\"N\",\"O\",\"P\",\"Q\",\"R\",\"S\",\"T\",\"U\",\"V\",\"W\",\"X\",\"Y\",\"Z\"]"
   ]
  },
  {
   "cell_type": "code",
   "execution_count": 18,
   "metadata": {},
   "outputs": [],
   "source": [
    "cnt=1\n",
    "dic_word={}\n",
    "for i in albha:\n",
    "    for j in albha:\n",
    "        for k in albha:\n",
    "            for l in albha:\n",
    "                dic_word[cnt]=i+j+k+l\n",
    "                cnt=cnt+1"
   ]
  },
  {
   "cell_type": "code",
   "execution_count": 19,
   "metadata": {},
   "outputs": [],
   "source": [
    "#dic_word"
   ]
  },
  {
   "cell_type": "code",
   "execution_count": 20,
   "metadata": {},
   "outputs": [],
   "source": [
    "BB={}\n",
    "for ix in range(data_word.shape[0]):\n",
    "    data_word.iloc[ix,2]=dic_word[data_word.iloc[ix,1]]\n",
    "    BB[data_word.iloc[ix,0]]=dic_word[data_word.iloc[ix,1]]"
   ]
  },
  {
   "cell_type": "code",
   "execution_count": 21,
   "metadata": {},
   "outputs": [
    {
     "data": {
      "text/html": [
       "<div>\n",
       "<style scoped>\n",
       "    .dataframe tbody tr th:only-of-type {\n",
       "        vertical-align: middle;\n",
       "    }\n",
       "\n",
       "    .dataframe tbody tr th {\n",
       "        vertical-align: top;\n",
       "    }\n",
       "\n",
       "    .dataframe thead th {\n",
       "        text-align: right;\n",
       "    }\n",
       "</style>\n",
       "<table border=\"1\" class=\"dataframe\">\n",
       "  <thead>\n",
       "    <tr style=\"text-align: right;\">\n",
       "      <th></th>\n",
       "      <th>function</th>\n",
       "      <th>node_no</th>\n",
       "      <th>word</th>\n",
       "    </tr>\n",
       "  </thead>\n",
       "  <tbody>\n",
       "    <tr>\n",
       "      <th>0</th>\n",
       "      <td>3</td>\n",
       "      <td>3</td>\n",
       "      <td>AAAC</td>\n",
       "    </tr>\n",
       "    <tr>\n",
       "      <th>1</th>\n",
       "      <td>32774</td>\n",
       "      <td>2308</td>\n",
       "      <td>ADKT</td>\n",
       "    </tr>\n",
       "    <tr>\n",
       "      <th>2</th>\n",
       "      <td>8202</td>\n",
       "      <td>4163</td>\n",
       "      <td>AGEC</td>\n",
       "    </tr>\n",
       "    <tr>\n",
       "      <th>3</th>\n",
       "      <td>32787</td>\n",
       "      <td>4958</td>\n",
       "      <td>AHIR</td>\n",
       "    </tr>\n",
       "    <tr>\n",
       "      <th>4</th>\n",
       "      <td>51222</td>\n",
       "      <td>15701</td>\n",
       "      <td>AXFW</td>\n",
       "    </tr>\n",
       "  </tbody>\n",
       "</table>\n",
       "</div>"
      ],
      "text/plain": [
       "   function  node_no  word\n",
       "0         3        3  AAAC\n",
       "1     32774     2308  ADKT\n",
       "2      8202     4163  AGEC\n",
       "3     32787     4958  AHIR\n",
       "4     51222    15701  AXFW"
      ]
     },
     "execution_count": 21,
     "metadata": {},
     "output_type": "execute_result"
    }
   ],
   "source": [
    "data_word.head()"
   ]
  },
  {
   "cell_type": "code",
   "execution_count": 22,
   "metadata": {},
   "outputs": [
    {
     "name": "stdout",
     "output_type": "stream",
     "text": [
      "930\n"
     ]
    }
   ],
   "source": [
    "print(len(BB))"
   ]
  },
  {
   "cell_type": "code",
   "execution_count": 31,
   "metadata": {},
   "outputs": [],
   "source": [
    "train_data=pd.read_csv(\"train-bp.csv\")"
   ]
  },
  {
   "cell_type": "code",
   "execution_count": 32,
   "metadata": {},
   "outputs": [
    {
     "data": {
      "text/html": [
       "<div>\n",
       "<style scoped>\n",
       "    .dataframe tbody tr th:only-of-type {\n",
       "        vertical-align: middle;\n",
       "    }\n",
       "\n",
       "    .dataframe tbody tr th {\n",
       "        vertical-align: top;\n",
       "    }\n",
       "\n",
       "    .dataframe thead th {\n",
       "        text-align: right;\n",
       "    }\n",
       "</style>\n",
       "<table border=\"1\" class=\"dataframe\">\n",
       "  <thead>\n",
       "    <tr style=\"text-align: right;\">\n",
       "      <th></th>\n",
       "      <th>0</th>\n",
       "      <th>0.1</th>\n",
       "      <th>1</th>\n",
       "      <th>2</th>\n",
       "      <th>3</th>\n",
       "      <th>4</th>\n",
       "      <th>5</th>\n",
       "      <th>6</th>\n",
       "      <th>7</th>\n",
       "      <th>8</th>\n",
       "      <th>...</th>\n",
       "      <th>922</th>\n",
       "      <th>923</th>\n",
       "      <th>924</th>\n",
       "      <th>925</th>\n",
       "      <th>926</th>\n",
       "      <th>927</th>\n",
       "      <th>928</th>\n",
       "      <th>929</th>\n",
       "      <th>930</th>\n",
       "      <th>931</th>\n",
       "    </tr>\n",
       "  </thead>\n",
       "  <tbody>\n",
       "    <tr>\n",
       "      <th>0</th>\n",
       "      <td>MNFLWKGRRFLIAGILPTFEGAADEIVDKENKTYKAFLASKPPEET...</td>\n",
       "      <td>0</td>\n",
       "      <td>0</td>\n",
       "      <td>0</td>\n",
       "      <td>0</td>\n",
       "      <td>0</td>\n",
       "      <td>0</td>\n",
       "      <td>0</td>\n",
       "      <td>0</td>\n",
       "      <td>0</td>\n",
       "      <td>...</td>\n",
       "      <td>0</td>\n",
       "      <td>0</td>\n",
       "      <td>0</td>\n",
       "      <td>0</td>\n",
       "      <td>0</td>\n",
       "      <td>0</td>\n",
       "      <td>0</td>\n",
       "      <td>0</td>\n",
       "      <td>0</td>\n",
       "      <td>0</td>\n",
       "    </tr>\n",
       "    <tr>\n",
       "      <th>1</th>\n",
       "      <td>MENEREKQVYLAKLSEQTERYDEMVEAMKKVAQLDVELTVEERNLV...</td>\n",
       "      <td>0</td>\n",
       "      <td>0</td>\n",
       "      <td>0</td>\n",
       "      <td>0</td>\n",
       "      <td>0</td>\n",
       "      <td>0</td>\n",
       "      <td>0</td>\n",
       "      <td>0</td>\n",
       "      <td>0</td>\n",
       "      <td>...</td>\n",
       "      <td>0</td>\n",
       "      <td>1</td>\n",
       "      <td>1</td>\n",
       "      <td>1</td>\n",
       "      <td>0</td>\n",
       "      <td>0</td>\n",
       "      <td>0</td>\n",
       "      <td>0</td>\n",
       "      <td>0</td>\n",
       "      <td>0</td>\n",
       "    </tr>\n",
       "    <tr>\n",
       "      <th>2</th>\n",
       "      <td>MATPGASSARDEFVYMAKLAEQAERYEEMVEFMEKVAKAVDKDELT...</td>\n",
       "      <td>0</td>\n",
       "      <td>0</td>\n",
       "      <td>0</td>\n",
       "      <td>0</td>\n",
       "      <td>0</td>\n",
       "      <td>0</td>\n",
       "      <td>0</td>\n",
       "      <td>0</td>\n",
       "      <td>0</td>\n",
       "      <td>...</td>\n",
       "      <td>0</td>\n",
       "      <td>0</td>\n",
       "      <td>0</td>\n",
       "      <td>0</td>\n",
       "      <td>0</td>\n",
       "      <td>0</td>\n",
       "      <td>0</td>\n",
       "      <td>0</td>\n",
       "      <td>0</td>\n",
       "      <td>0</td>\n",
       "    </tr>\n",
       "    <tr>\n",
       "      <th>3</th>\n",
       "      <td>MSDTVEELVQRAKLAEQAERYDDMAAAMKKVTEQGQELSNEERNLL...</td>\n",
       "      <td>0</td>\n",
       "      <td>0</td>\n",
       "      <td>0</td>\n",
       "      <td>0</td>\n",
       "      <td>0</td>\n",
       "      <td>0</td>\n",
       "      <td>0</td>\n",
       "      <td>0</td>\n",
       "      <td>0</td>\n",
       "      <td>...</td>\n",
       "      <td>0</td>\n",
       "      <td>0</td>\n",
       "      <td>0</td>\n",
       "      <td>0</td>\n",
       "      <td>0</td>\n",
       "      <td>0</td>\n",
       "      <td>0</td>\n",
       "      <td>0</td>\n",
       "      <td>0</td>\n",
       "      <td>0</td>\n",
       "    </tr>\n",
       "    <tr>\n",
       "      <th>4</th>\n",
       "      <td>MASAELSREENVYMAKLAEQAERYEEMVEFMEKVAKTVDSEELTVE...</td>\n",
       "      <td>0</td>\n",
       "      <td>0</td>\n",
       "      <td>0</td>\n",
       "      <td>0</td>\n",
       "      <td>0</td>\n",
       "      <td>0</td>\n",
       "      <td>0</td>\n",
       "      <td>0</td>\n",
       "      <td>0</td>\n",
       "      <td>...</td>\n",
       "      <td>0</td>\n",
       "      <td>0</td>\n",
       "      <td>0</td>\n",
       "      <td>0</td>\n",
       "      <td>0</td>\n",
       "      <td>0</td>\n",
       "      <td>0</td>\n",
       "      <td>0</td>\n",
       "      <td>0</td>\n",
       "      <td>0</td>\n",
       "    </tr>\n",
       "  </tbody>\n",
       "</table>\n",
       "<p>5 rows × 933 columns</p>\n",
       "</div>"
      ],
      "text/plain": [
       "                                                   0  0.1  1  2  3  4  5  6  \\\n",
       "0  MNFLWKGRRFLIAGILPTFEGAADEIVDKENKTYKAFLASKPPEET...    0  0  0  0  0  0  0   \n",
       "1  MENEREKQVYLAKLSEQTERYDEMVEAMKKVAQLDVELTVEERNLV...    0  0  0  0  0  0  0   \n",
       "2  MATPGASSARDEFVYMAKLAEQAERYEEMVEFMEKVAKAVDKDELT...    0  0  0  0  0  0  0   \n",
       "3  MSDTVEELVQRAKLAEQAERYDDMAAAMKKVTEQGQELSNEERNLL...    0  0  0  0  0  0  0   \n",
       "4  MASAELSREENVYMAKLAEQAERYEEMVEFMEKVAKTVDSEELTVE...    0  0  0  0  0  0  0   \n",
       "\n",
       "   7  8 ...   922  923  924  925  926  927  928  929  930  931  \n",
       "0  0  0 ...     0    0    0    0    0    0    0    0    0    0  \n",
       "1  0  0 ...     0    1    1    1    0    0    0    0    0    0  \n",
       "2  0  0 ...     0    0    0    0    0    0    0    0    0    0  \n",
       "3  0  0 ...     0    0    0    0    0    0    0    0    0    0  \n",
       "4  0  0 ...     0    0    0    0    0    0    0    0    0    0  \n",
       "\n",
       "[5 rows x 933 columns]"
      ]
     },
     "execution_count": 32,
     "metadata": {},
     "output_type": "execute_result"
    }
   ],
   "source": [
    "train_data.head()"
   ]
  },
  {
   "cell_type": "code",
   "execution_count": 25,
   "metadata": {},
   "outputs": [],
   "source": [
    "train_fresh_data=train_data.drop(columns=[\"43\",\"362\"])"
   ]
  },
  {
   "cell_type": "code",
   "execution_count": 26,
   "metadata": {},
   "outputs": [
    {
     "data": {
      "text/plain": [
       "(36380, 931)"
      ]
     },
     "execution_count": 26,
     "metadata": {},
     "output_type": "execute_result"
    }
   ],
   "source": [
    "train_fresh_data.shape"
   ]
  },
  {
   "cell_type": "code",
   "execution_count": 27,
   "metadata": {},
   "outputs": [],
   "source": [
    "df_train=train_fresh_data.values\n",
    "df_train=df_train[:,1:].astype(\"int\")"
   ]
  },
  {
   "cell_type": "code",
   "execution_count": 28,
   "metadata": {},
   "outputs": [
    {
     "data": {
      "text/plain": [
       "(36380, 930)"
      ]
     },
     "execution_count": 28,
     "metadata": {},
     "output_type": "execute_result"
    }
   ],
   "source": [
    "df_train.shape"
   ]
  },
  {
   "cell_type": "code",
   "execution_count": 33,
   "metadata": {},
   "outputs": [],
   "source": [
    "move=[43,362]"
   ]
  },
  {
   "cell_type": "code",
   "execution_count": 38,
   "metadata": {},
   "outputs": [],
   "source": [
    "text=[]\n",
    "for ix in range(df_train.shape[0]):\n",
    "    temp=[]\n",
    "    row=list(df_train[ix])\n",
    "    for ixx in range(len(row)):\n",
    "        if ixx not in move and row[ixx]==1:\n",
    "            temp.append(BB[geo_node[ixx]])\n",
    "    text.append(\" \".join(temp))\n",
    "            \n",
    "        "
   ]
  },
  {
   "cell_type": "code",
   "execution_count": 48,
   "metadata": {},
   "outputs": [],
   "source": [
    "df_train=train_fresh_data.values\n",
    "D_seq=list(df_train[:,0])"
   ]
  },
  {
   "cell_type": "code",
   "execution_count": 50,
   "metadata": {},
   "outputs": [],
   "source": [
    "DD_word=pd.DataFrame(columns=[\"Prolang\",\"Geolang\"])"
   ]
  },
  {
   "cell_type": "code",
   "execution_count": 51,
   "metadata": {},
   "outputs": [],
   "source": [
    "DD_word[\"Prolang\"]=D_seq\n",
    "DD_word[\"Geolang\"]=text"
   ]
  },
  {
   "cell_type": "code",
   "execution_count": 52,
   "metadata": {},
   "outputs": [],
   "source": [
    "DD_word.to_csv(\"pro_and_Geo_lang.csv\",index=False)"
   ]
  },
  {
   "cell_type": "code",
   "execution_count": 54,
   "metadata": {},
   "outputs": [],
   "source": [
    "#pd.read_csv(\"pro_and_Geo_lang.csv\")"
   ]
  },
  {
   "cell_type": "code",
   "execution_count": 55,
   "metadata": {},
   "outputs": [],
   "source": [
    "dd=pd.read_csv(\"new_file.csv\")"
   ]
  },
  {
   "cell_type": "code",
   "execution_count": 57,
   "metadata": {},
   "outputs": [],
   "source": [
    "dk=dd[[\"0\"]]"
   ]
  },
  {
   "cell_type": "code",
   "execution_count": 59,
   "metadata": {},
   "outputs": [
    {
     "name": "stderr",
     "output_type": "stream",
     "text": [
      "/usr/local/lib/python2.7/dist-packages/ipykernel_launcher.py:1: SettingWithCopyWarning: \n",
      "A value is trying to be set on a copy of a slice from a DataFrame.\n",
      "Try using .loc[row_indexer,col_indexer] = value instead\n",
      "\n",
      "See the caveats in the documentation: http://pandas.pydata.org/pandas-docs/stable/indexing.html#indexing-view-versus-copy\n",
      "  \"\"\"Entry point for launching an IPython kernel.\n"
     ]
    }
   ],
   "source": [
    "dk[\"Geo_language\"]=text"
   ]
  },
  {
   "cell_type": "code",
   "execution_count": 62,
   "metadata": {},
   "outputs": [],
   "source": [
    "#dk.to_csv(\"new_pro_geo_language\",index=False)"
   ]
  },
  {
   "cell_type": "code",
   "execution_count": 3,
   "metadata": {},
   "outputs": [
    {
     "data": {
      "text/html": [
       "<div>\n",
       "<style scoped>\n",
       "    .dataframe tbody tr th:only-of-type {\n",
       "        vertical-align: middle;\n",
       "    }\n",
       "\n",
       "    .dataframe tbody tr th {\n",
       "        vertical-align: top;\n",
       "    }\n",
       "\n",
       "    .dataframe thead th {\n",
       "        text-align: right;\n",
       "    }\n",
       "</style>\n",
       "<table border=\"1\" class=\"dataframe\">\n",
       "  <thead>\n",
       "    <tr style=\"text-align: right;\">\n",
       "      <th></th>\n",
       "      <th>0</th>\n",
       "      <th>Geo_language</th>\n",
       "    </tr>\n",
       "  </thead>\n",
       "  <tbody>\n",
       "    <tr>\n",
       "      <th>0</th>\n",
       "      <td>['MNF', 'LWK', 'GRR', 'FLI', 'AGIL', 'PTF', 'E...</td>\n",
       "      <td>AMLL AMOH AFJU AFLI AEYW AENH AEGT</td>\n",
       "    </tr>\n",
       "    <tr>\n",
       "      <th>1</th>\n",
       "      <td>['MEN', 'EREK', 'QVY', 'LAKL', 'SEQ', 'TER', '...</td>\n",
       "      <td>AZHN AZBT AZUC AWST AWTU AROP ARIG ARKO AQVR A...</td>\n",
       "    </tr>\n",
       "    <tr>\n",
       "      <th>2</th>\n",
       "      <td>['MAT', 'PGAS', 'SAR', 'DEF', 'VYM', 'AKLA', '...</td>\n",
       "      <td>AWJB AWST AWTU</td>\n",
       "    </tr>\n",
       "    <tr>\n",
       "      <th>3</th>\n",
       "      <td>['MSD', 'TVEE', 'LVQ', 'RAKL', 'AEQ', 'AER', '...</td>\n",
       "      <td>BPFK BPEP BOXG BPGG BOYY BOZD BPRR BRHZ BRJO B...</td>\n",
       "    </tr>\n",
       "    <tr>\n",
       "      <th>4</th>\n",
       "      <td>['MAS', 'AELS', 'REE', 'NVY', 'MAK', 'LAEQ', '...</td>\n",
       "      <td>AWGJ AZWC AWJB AWST AWTU</td>\n",
       "    </tr>\n",
       "    <tr>\n",
       "      <th>5</th>\n",
       "      <td>['MAS', 'GRE', 'EFV', 'YMA', 'KLAE', 'QAE', 'R...</td>\n",
       "      <td>AZHN AZBT AZUC AWST AWTU</td>\n",
       "    </tr>\n",
       "    <tr>\n",
       "      <th>6</th>\n",
       "      <td>['MSD', 'GKE', 'ELV', 'NRA', 'KLAE', 'QAE', 'R...</td>\n",
       "      <td>BMDQ AYLY AWQM AWQN AWQA AWQD AWQE AWQX BGMO A...</td>\n",
       "    </tr>\n",
       "    <tr>\n",
       "      <th>7</th>\n",
       "      <td>['MAS', 'AELS', 'REE', 'NVY', 'MAK', 'LAEQ', '...</td>\n",
       "      <td>AWGJ AZWC AWJB AWST AWTU</td>\n",
       "    </tr>\n",
       "    <tr>\n",
       "      <th>8</th>\n",
       "      <td>['MST', 'REE', 'NVY', 'MAK', 'LAEQ', 'AER', 'Y...</td>\n",
       "      <td>AWJB AWST AWTU ALEU AJQT ARYD ARVC ARVE AFLI A...</td>\n",
       "    </tr>\n",
       "    <tr>\n",
       "      <th>9</th>\n",
       "      <td>['MSS', 'DSS', 'REE', 'NVY', 'LAKL', 'AEQ', 'A...</td>\n",
       "      <td>ARNW AQUF AQZN ARAT AQTT</td>\n",
       "    </tr>\n",
       "    <tr>\n",
       "      <th>10</th>\n",
       "      <td>['MAT', 'TLSR', 'DQY', 'VYM', 'AKLA', 'EQA', '...</td>\n",
       "      <td>AWJB AWST AWTU</td>\n",
       "    </tr>\n",
       "    <tr>\n",
       "      <th>11</th>\n",
       "      <td>['MTM', 'DKS', 'ELVQ', 'KAKL', 'AEQ', 'AER', '...</td>\n",
       "      <td>BRCL BREY BPHX BOXG BOZD BPRR BRHZ BNOD BNOA B...</td>\n",
       "    </tr>\n",
       "    <tr>\n",
       "      <th>12</th>\n",
       "      <td>['MTM', 'DKS', 'ELVQ', 'KAKL', 'AEQ', 'AER', '...</td>\n",
       "      <td>AUOG ATAL ASXZ AVEW AFLI ATKM ATKO ATDV ATFA A...</td>\n",
       "    </tr>\n",
       "    <tr>\n",
       "      <th>13</th>\n",
       "      <td>['MTM', 'DKS', 'ELVQ', 'KAKL', 'AEQ', 'AER', '...</td>\n",
       "      <td>BQIN BQKE BQEG BPNA BQLU BQDF BPRR BRHZ BNXS B...</td>\n",
       "    </tr>\n",
       "    <tr>\n",
       "      <th>14</th>\n",
       "      <td>['MTE', 'REN', 'NVY', 'KAKL', 'AEQ', 'AER', 'Y...</td>\n",
       "      <td>AWVT BBNB BBNQ BBPI BBPU AWVO BBLY BBIO BBIS B...</td>\n",
       "    </tr>\n",
       "    <tr>\n",
       "      <th>15</th>\n",
       "      <td>['MDD', 'REDL', 'VYQ', 'AKLA', 'EQA', 'ERY', '...</td>\n",
       "      <td>AFJQ AEEU BRCL BREY BPHX BOXG BOZD BPRR BRHZ A...</td>\n",
       "    </tr>\n",
       "    <tr>\n",
       "      <th>16</th>\n",
       "      <td>['MDD', 'REDL', 'VYQ', 'AKLA', 'EQA', 'ERY', '...</td>\n",
       "      <td>BCVR BCXF BCXQ AXHT BCQW BCQZ BDGX AXJV BAPE B...</td>\n",
       "    </tr>\n",
       "    <tr>\n",
       "      <th>17</th>\n",
       "      <td>['MDD', 'REDL', 'VYQ', 'AKLA', 'EQA', 'ERY', '...</td>\n",
       "      <td>AZBT AZUC AWST AWTU</td>\n",
       "    </tr>\n",
       "    <tr>\n",
       "      <th>18</th>\n",
       "      <td>['MGD', 'REQL', 'LQRA', 'RLAE', 'QAE', 'RYD', ...</td>\n",
       "      <td>BRCL BREY BPHX BOXG BOZD BPRR BRHZ BOLX BNGV B...</td>\n",
       "    </tr>\n",
       "    <tr>\n",
       "      <th>19</th>\n",
       "      <td>['MGD', 'REQL', 'LQRA', 'RLAE', 'QAE', 'RYD', ...</td>\n",
       "      <td>AWFN BDWO BJOI AYGQ BIKP BDLY BIHG BIHX BIIC B...</td>\n",
       "    </tr>\n",
       "    <tr>\n",
       "      <th>20</th>\n",
       "      <td>['MVD', 'REQL', 'VQK', 'ARLA', 'EQA', 'ERY', '...</td>\n",
       "      <td>BRCL BREY BPHX BOXG BOZD BPRR BRHZ BMDQ BBFK A...</td>\n",
       "    </tr>\n",
       "    <tr>\n",
       "      <th>21</th>\n",
       "      <td>['MVD', 'REQL', 'VQK', 'ARLA', 'EQA', 'ERY', '...</td>\n",
       "      <td>AUOG ATAL ASXZ AVEW AFLI ATKM ATKO ATDV ATFA A...</td>\n",
       "    </tr>\n",
       "    <tr>\n",
       "      <th>22</th>\n",
       "      <td>['MVD', 'REQL', 'VQK', 'ARLA', 'EQA', 'ERY', '...</td>\n",
       "      <td>AZBT AZUC AWST AWTU ARZL ASGG ASCU ASEJ ARZZ A...</td>\n",
       "    </tr>\n",
       "    <tr>\n",
       "      <th>23</th>\n",
       "      <td>['MER', 'ASLI', 'QKA', 'KLAE', 'QAE', 'RYE', '...</td>\n",
       "      <td>BRCL BREY BPHX BOXG BOZD BPRR BRHZ AQFU BNRS B...</td>\n",
       "    </tr>\n",
       "    <tr>\n",
       "      <th>24</th>\n",
       "      <td>['MER', 'ASLI', 'QKA', 'KLAE', 'QAE', 'RYE', '...</td>\n",
       "      <td>BNYM BNYQ BNYW BNZB BNOA BOSN BMLY BMQG BNEH B...</td>\n",
       "    </tr>\n",
       "    <tr>\n",
       "      <th>25</th>\n",
       "      <td>['MEK', 'TEL', 'IQK', 'AKLA', 'EQA', 'ERY', 'D...</td>\n",
       "      <td>BRCL BREY BPHX BOXG BOZD BPRR BRHZ BMDQ BDEL B...</td>\n",
       "    </tr>\n",
       "    <tr>\n",
       "      <th>26</th>\n",
       "      <td>['MEK', 'TEL', 'IQK', 'AKLA', 'EQA', 'ERY', 'D...</td>\n",
       "      <td>AYXP AZBT AZUC AWST AWTU AUOG ATAL ASXZ AVEW A...</td>\n",
       "    </tr>\n",
       "    <tr>\n",
       "      <th>27</th>\n",
       "      <td>['MEK', 'TEL', 'IQK', 'AKLA', 'EQA', 'ERY', 'D...</td>\n",
       "      <td>BFDR AWMK AZUB AZUC BGUI AXQM AWLT AWLW AWKJ A...</td>\n",
       "    </tr>\n",
       "    <tr>\n",
       "      <th>28</th>\n",
       "      <td>['MST', 'VDK', 'EELV', 'QKA', 'KLAE', 'QSE', '...</td>\n",
       "      <td>AGCC AGDY AAFT BKZJ BMDQ AWVT BBNB BBNQ BBPI B...</td>\n",
       "    </tr>\n",
       "    <tr>\n",
       "      <th>29</th>\n",
       "      <td>['MDK', 'NEL', 'VQK', 'AKLA', 'EQA', 'ERY', 'D...</td>\n",
       "      <td>BPNA BRCL BREY BPHX BOXG BOZD BPRR BRHZ BMDQ A...</td>\n",
       "    </tr>\n",
       "    <tr>\n",
       "      <th>...</th>\n",
       "      <td>...</td>\n",
       "      <td>...</td>\n",
       "    </tr>\n",
       "    <tr>\n",
       "      <th>36350</th>\n",
       "      <td>['MKT', 'WLK', 'TVF', 'GVT', 'TLAA', 'LALV', '...</td>\n",
       "      <td>BAZF BBIC BBIF BBGG BFKU BEVZ AWYB AWLK BCJH B...</td>\n",
       "    </tr>\n",
       "    <tr>\n",
       "      <th>36351</th>\n",
       "      <td>['MAD', 'TKG', 'FSS', 'IET', 'PGY', 'VGF', 'AN...</td>\n",
       "      <td>BAZF BBIC BBIF BEVZ AWYB BDOZ BDPI AZTX AZUC A...</td>\n",
       "    </tr>\n",
       "    <tr>\n",
       "      <th>36352</th>\n",
       "      <td>['MDK', 'EYV', 'GFA', 'ALP', 'NQL', 'HRK', 'SV...</td>\n",
       "      <td>BQKE BQEG BPMD BPNA BQLU BQDF BPFK BPEP BOXG B...</td>\n",
       "    </tr>\n",
       "    <tr>\n",
       "      <th>36353</th>\n",
       "      <td>['MSV', 'EVD', 'FVD', 'KKE', 'VHL', 'RTL', 'KQ...</td>\n",
       "      <td>BAQD AZVB AWIN AWIE AWJB BFFT AZUC AWST AWTU A...</td>\n",
       "    </tr>\n",
       "    <tr>\n",
       "      <th>36354</th>\n",
       "      <td>['MSK', 'QQP', 'TQF', 'INP', 'ETP', 'GYV', 'GF...</td>\n",
       "      <td>BPNM BPIQ BQHY BQKE BQEC BQEG BPMD BPNA BPPM B...</td>\n",
       "    </tr>\n",
       "    <tr>\n",
       "      <th>36355</th>\n",
       "      <td>['MSK', 'QQP', 'TQF', 'INP', 'ETP', 'GYV', 'GF...</td>\n",
       "      <td>BPPM BPRR BRHZ ARVE AFLI AAWQ</td>\n",
       "    </tr>\n",
       "    <tr>\n",
       "      <th>36356</th>\n",
       "      <td>['MDR', 'SLG', 'WQG', 'NSV', 'PED', 'RTE', 'AG...</td>\n",
       "      <td>BBNQ BBPI BBPU AWVO BCAQ AWXB AZWU BAHE BAPE B...</td>\n",
       "    </tr>\n",
       "    <tr>\n",
       "      <th>36357</th>\n",
       "      <td>['MDH', 'SLG', 'WQG', 'NSV', 'PED', 'GTE', 'AG...</td>\n",
       "      <td>BPHX BOZD BPRR BRHZ AORC APAB APHP APMA AMOH A...</td>\n",
       "    </tr>\n",
       "    <tr>\n",
       "      <th>36358</th>\n",
       "      <td>['MST', 'GLR', 'YKS', 'KLA', 'TPE', 'DKQ', 'DI...</td>\n",
       "      <td>BMDQ AYGL AXKC AWQA AWQD BGKH BGMO AZJS BAVM A...</td>\n",
       "    </tr>\n",
       "    <tr>\n",
       "      <th>36359</th>\n",
       "      <td>['MST', 'GLR', 'YKS', 'KLA', 'TPE', 'DKQ', 'DI...</td>\n",
       "      <td>AXAM BGMK AXCC BEVZ AWYB BGKH BGMO BAVM AZUC A...</td>\n",
       "    </tr>\n",
       "    <tr>\n",
       "      <th>36360</th>\n",
       "      <td>['MAA', 'TDI', 'ARQ', 'VGE', 'GCR', 'TVP', 'LA...</td>\n",
       "      <td>AAUU ARVE AFLI AAWQ</td>\n",
       "    </tr>\n",
       "    <tr>\n",
       "      <th>36361</th>\n",
       "      <td>['MSV', 'SARS', 'AAAE', 'ERS', 'VNS', 'STM', '...</td>\n",
       "      <td>BQIN BQKE BQEG BPNA BQLU BQDF BPRR BRHZ BCGI B...</td>\n",
       "    </tr>\n",
       "    <tr>\n",
       "      <th>36362</th>\n",
       "      <td>['MSV', 'SARS', 'AAAE', 'ERS', 'VNC', 'GTM', '...</td>\n",
       "      <td>BPUR BPUT BPPM BPUV BPUW BPEP BOZD BPRR BRHZ A...</td>\n",
       "    </tr>\n",
       "    <tr>\n",
       "      <th>36363</th>\n",
       "      <td>['MVA', 'QQK', 'NLE', 'GYV', 'GFA', 'NLP', 'NQ...</td>\n",
       "      <td>BPUT BPPM BPUV BPUW BPRR BRHZ BMDQ BDWO BJOI B...</td>\n",
       "    </tr>\n",
       "    <tr>\n",
       "      <th>36364</th>\n",
       "      <td>['MKK', 'SYS', 'GGT', 'RTSS', 'GRLR', 'RLG', '...</td>\n",
       "      <td>BQIN BQKE BQEG BPNA BQLU BQDF BPRR BRHZ BCGI B...</td>\n",
       "    </tr>\n",
       "    <tr>\n",
       "      <th>36365</th>\n",
       "      <td>['MKT', 'IEV', 'DDEL', 'YSY', 'IAS', 'HTK', 'H...</td>\n",
       "      <td>BQIF BQIN BQKE BQEG BPNA BQLU BQDF BOVG BOXG B...</td>\n",
       "    </tr>\n",
       "    <tr>\n",
       "      <th>36366</th>\n",
       "      <td>['MFR', 'NYT', 'DSV', 'QEM', 'VLRA', 'IDS', 'I...</td>\n",
       "      <td>AZCL AZBT AZUC AWST AWTU</td>\n",
       "    </tr>\n",
       "    <tr>\n",
       "      <th>36367</th>\n",
       "      <td>['MSY', 'SAAD', 'NLQ', 'DSF', 'QRA', 'MNF', 'S...</td>\n",
       "      <td>AKHN AHQH AHNO AHNP AHQI AGYD AHIR AHJZ AIBR A...</td>\n",
       "    </tr>\n",
       "    <tr>\n",
       "      <th>36368</th>\n",
       "      <td>['MKS', 'TRK', 'VVGI', 'FLA', 'TCL', 'LPF', 'T...</td>\n",
       "      <td>BCAQ AWXB AZVB AWJB AXYA AXYH AXWD AXXF AYNH A...</td>\n",
       "    </tr>\n",
       "    <tr>\n",
       "      <th>36369</th>\n",
       "      <td>['MSA', 'TAAA', 'SSSI', 'AVAT', 'NSL', 'RNV', ...</td>\n",
       "      <td>ANDQ AMLL AMOH AFJT AFJU AFLI AEYW AEVJ AENH A...</td>\n",
       "    </tr>\n",
       "    <tr>\n",
       "      <th>36370</th>\n",
       "      <td>['MAK', 'VSLE', 'KDK', 'IKF', 'LLVE', 'GVH', '...</td>\n",
       "      <td>AKHN AHQH AHNO AHNP AHQI AGYD AHIR AHJZ AIBR A...</td>\n",
       "    </tr>\n",
       "    <tr>\n",
       "      <th>36371</th>\n",
       "      <td>['MAF', 'ANL', 'RKVL', 'ISDS', 'LDP', 'CCR', '...</td>\n",
       "      <td>AKHN AHQH AHNO AHNP AHQI AGYD AHIR AHJZ AIBR A...</td>\n",
       "    </tr>\n",
       "    <tr>\n",
       "      <th>36372</th>\n",
       "      <td>['MAF', 'ANL', 'RKVL', 'ISDS', 'LDP', 'CCR', '...</td>\n",
       "      <td>BPPM BPRR BRHZ AWGJ AZWC AWJB AWST AWTU AHQI A...</td>\n",
       "    </tr>\n",
       "    <tr>\n",
       "      <th>36373</th>\n",
       "      <td>['MSL', 'PVVL', 'IAD', 'KLA', 'PST', 'VAAL', '...</td>\n",
       "      <td>AKHN AHQH AHNO AHNP AHQI AGYD AHIR AHJZ AIBR A...</td>\n",
       "    </tr>\n",
       "    <tr>\n",
       "      <th>36374</th>\n",
       "      <td>['MKS', 'YIS', 'LFF', 'ILC', 'VIF', 'NKN', 'VI...</td>\n",
       "      <td>AXYV AYDK BJBP AWST AWTU AAIA AANL AAKY AAMG A...</td>\n",
       "    </tr>\n",
       "    <tr>\n",
       "      <th>36375</th>\n",
       "      <td>['MAF', 'ANL', 'RKIL', 'ISDS', 'LDP', 'CCR', '...</td>\n",
       "      <td>AKHN AHQH AHNO AHNP AHQI AGYD AHIR AHJZ AIBR A...</td>\n",
       "    </tr>\n",
       "    <tr>\n",
       "      <th>36376</th>\n",
       "      <td>['MTS', 'IDI', 'NNL', 'QNT', 'FQQ', 'AMN', 'MS...</td>\n",
       "      <td>AKHN AHQH AHNO AHNP AHQI AGYD AHIR AHJZ AIBR A...</td>\n",
       "    </tr>\n",
       "    <tr>\n",
       "      <th>36377</th>\n",
       "      <td>['MAA', 'TTN', 'SFLV', 'GSN', 'NTQ', 'IPAL', '...</td>\n",
       "      <td>AKHN AHQH AHNO AHNP AHQI AGYD AHIR AHJZ AIBR A...</td>\n",
       "    </tr>\n",
       "    <tr>\n",
       "      <th>36378</th>\n",
       "      <td>['MAAS', 'TNS', 'FLI', 'GNQ', 'TQI', 'PSLK', '...</td>\n",
       "      <td>ARNW AQUF AQZN ARAT AQTT</td>\n",
       "    </tr>\n",
       "    <tr>\n",
       "      <th>36379</th>\n",
       "      <td>['MPA', 'KVS', 'VLI', 'TVT', 'GMD', 'QPG', 'VT...</td>\n",
       "      <td>ABPZ ABQG ABNC ABHT AAZP ABAS ABBE AAWQ AAKW A...</td>\n",
       "    </tr>\n",
       "  </tbody>\n",
       "</table>\n",
       "<p>36380 rows × 2 columns</p>\n",
       "</div>"
      ],
      "text/plain": [
       "                                                       0  \\\n",
       "0      ['MNF', 'LWK', 'GRR', 'FLI', 'AGIL', 'PTF', 'E...   \n",
       "1      ['MEN', 'EREK', 'QVY', 'LAKL', 'SEQ', 'TER', '...   \n",
       "2      ['MAT', 'PGAS', 'SAR', 'DEF', 'VYM', 'AKLA', '...   \n",
       "3      ['MSD', 'TVEE', 'LVQ', 'RAKL', 'AEQ', 'AER', '...   \n",
       "4      ['MAS', 'AELS', 'REE', 'NVY', 'MAK', 'LAEQ', '...   \n",
       "5      ['MAS', 'GRE', 'EFV', 'YMA', 'KLAE', 'QAE', 'R...   \n",
       "6      ['MSD', 'GKE', 'ELV', 'NRA', 'KLAE', 'QAE', 'R...   \n",
       "7      ['MAS', 'AELS', 'REE', 'NVY', 'MAK', 'LAEQ', '...   \n",
       "8      ['MST', 'REE', 'NVY', 'MAK', 'LAEQ', 'AER', 'Y...   \n",
       "9      ['MSS', 'DSS', 'REE', 'NVY', 'LAKL', 'AEQ', 'A...   \n",
       "10     ['MAT', 'TLSR', 'DQY', 'VYM', 'AKLA', 'EQA', '...   \n",
       "11     ['MTM', 'DKS', 'ELVQ', 'KAKL', 'AEQ', 'AER', '...   \n",
       "12     ['MTM', 'DKS', 'ELVQ', 'KAKL', 'AEQ', 'AER', '...   \n",
       "13     ['MTM', 'DKS', 'ELVQ', 'KAKL', 'AEQ', 'AER', '...   \n",
       "14     ['MTE', 'REN', 'NVY', 'KAKL', 'AEQ', 'AER', 'Y...   \n",
       "15     ['MDD', 'REDL', 'VYQ', 'AKLA', 'EQA', 'ERY', '...   \n",
       "16     ['MDD', 'REDL', 'VYQ', 'AKLA', 'EQA', 'ERY', '...   \n",
       "17     ['MDD', 'REDL', 'VYQ', 'AKLA', 'EQA', 'ERY', '...   \n",
       "18     ['MGD', 'REQL', 'LQRA', 'RLAE', 'QAE', 'RYD', ...   \n",
       "19     ['MGD', 'REQL', 'LQRA', 'RLAE', 'QAE', 'RYD', ...   \n",
       "20     ['MVD', 'REQL', 'VQK', 'ARLA', 'EQA', 'ERY', '...   \n",
       "21     ['MVD', 'REQL', 'VQK', 'ARLA', 'EQA', 'ERY', '...   \n",
       "22     ['MVD', 'REQL', 'VQK', 'ARLA', 'EQA', 'ERY', '...   \n",
       "23     ['MER', 'ASLI', 'QKA', 'KLAE', 'QAE', 'RYE', '...   \n",
       "24     ['MER', 'ASLI', 'QKA', 'KLAE', 'QAE', 'RYE', '...   \n",
       "25     ['MEK', 'TEL', 'IQK', 'AKLA', 'EQA', 'ERY', 'D...   \n",
       "26     ['MEK', 'TEL', 'IQK', 'AKLA', 'EQA', 'ERY', 'D...   \n",
       "27     ['MEK', 'TEL', 'IQK', 'AKLA', 'EQA', 'ERY', 'D...   \n",
       "28     ['MST', 'VDK', 'EELV', 'QKA', 'KLAE', 'QSE', '...   \n",
       "29     ['MDK', 'NEL', 'VQK', 'AKLA', 'EQA', 'ERY', 'D...   \n",
       "...                                                  ...   \n",
       "36350  ['MKT', 'WLK', 'TVF', 'GVT', 'TLAA', 'LALV', '...   \n",
       "36351  ['MAD', 'TKG', 'FSS', 'IET', 'PGY', 'VGF', 'AN...   \n",
       "36352  ['MDK', 'EYV', 'GFA', 'ALP', 'NQL', 'HRK', 'SV...   \n",
       "36353  ['MSV', 'EVD', 'FVD', 'KKE', 'VHL', 'RTL', 'KQ...   \n",
       "36354  ['MSK', 'QQP', 'TQF', 'INP', 'ETP', 'GYV', 'GF...   \n",
       "36355  ['MSK', 'QQP', 'TQF', 'INP', 'ETP', 'GYV', 'GF...   \n",
       "36356  ['MDR', 'SLG', 'WQG', 'NSV', 'PED', 'RTE', 'AG...   \n",
       "36357  ['MDH', 'SLG', 'WQG', 'NSV', 'PED', 'GTE', 'AG...   \n",
       "36358  ['MST', 'GLR', 'YKS', 'KLA', 'TPE', 'DKQ', 'DI...   \n",
       "36359  ['MST', 'GLR', 'YKS', 'KLA', 'TPE', 'DKQ', 'DI...   \n",
       "36360  ['MAA', 'TDI', 'ARQ', 'VGE', 'GCR', 'TVP', 'LA...   \n",
       "36361  ['MSV', 'SARS', 'AAAE', 'ERS', 'VNS', 'STM', '...   \n",
       "36362  ['MSV', 'SARS', 'AAAE', 'ERS', 'VNC', 'GTM', '...   \n",
       "36363  ['MVA', 'QQK', 'NLE', 'GYV', 'GFA', 'NLP', 'NQ...   \n",
       "36364  ['MKK', 'SYS', 'GGT', 'RTSS', 'GRLR', 'RLG', '...   \n",
       "36365  ['MKT', 'IEV', 'DDEL', 'YSY', 'IAS', 'HTK', 'H...   \n",
       "36366  ['MFR', 'NYT', 'DSV', 'QEM', 'VLRA', 'IDS', 'I...   \n",
       "36367  ['MSY', 'SAAD', 'NLQ', 'DSF', 'QRA', 'MNF', 'S...   \n",
       "36368  ['MKS', 'TRK', 'VVGI', 'FLA', 'TCL', 'LPF', 'T...   \n",
       "36369  ['MSA', 'TAAA', 'SSSI', 'AVAT', 'NSL', 'RNV', ...   \n",
       "36370  ['MAK', 'VSLE', 'KDK', 'IKF', 'LLVE', 'GVH', '...   \n",
       "36371  ['MAF', 'ANL', 'RKVL', 'ISDS', 'LDP', 'CCR', '...   \n",
       "36372  ['MAF', 'ANL', 'RKVL', 'ISDS', 'LDP', 'CCR', '...   \n",
       "36373  ['MSL', 'PVVL', 'IAD', 'KLA', 'PST', 'VAAL', '...   \n",
       "36374  ['MKS', 'YIS', 'LFF', 'ILC', 'VIF', 'NKN', 'VI...   \n",
       "36375  ['MAF', 'ANL', 'RKIL', 'ISDS', 'LDP', 'CCR', '...   \n",
       "36376  ['MTS', 'IDI', 'NNL', 'QNT', 'FQQ', 'AMN', 'MS...   \n",
       "36377  ['MAA', 'TTN', 'SFLV', 'GSN', 'NTQ', 'IPAL', '...   \n",
       "36378  ['MAAS', 'TNS', 'FLI', 'GNQ', 'TQI', 'PSLK', '...   \n",
       "36379  ['MPA', 'KVS', 'VLI', 'TVT', 'GMD', 'QPG', 'VT...   \n",
       "\n",
       "                                            Geo_language  \n",
       "0                     AMLL AMOH AFJU AFLI AEYW AENH AEGT  \n",
       "1      AZHN AZBT AZUC AWST AWTU AROP ARIG ARKO AQVR A...  \n",
       "2                                         AWJB AWST AWTU  \n",
       "3      BPFK BPEP BOXG BPGG BOYY BOZD BPRR BRHZ BRJO B...  \n",
       "4                               AWGJ AZWC AWJB AWST AWTU  \n",
       "5                               AZHN AZBT AZUC AWST AWTU  \n",
       "6      BMDQ AYLY AWQM AWQN AWQA AWQD AWQE AWQX BGMO A...  \n",
       "7                               AWGJ AZWC AWJB AWST AWTU  \n",
       "8      AWJB AWST AWTU ALEU AJQT ARYD ARVC ARVE AFLI A...  \n",
       "9                               ARNW AQUF AQZN ARAT AQTT  \n",
       "10                                        AWJB AWST AWTU  \n",
       "11     BRCL BREY BPHX BOXG BOZD BPRR BRHZ BNOD BNOA B...  \n",
       "12     AUOG ATAL ASXZ AVEW AFLI ATKM ATKO ATDV ATFA A...  \n",
       "13     BQIN BQKE BQEG BPNA BQLU BQDF BPRR BRHZ BNXS B...  \n",
       "14     AWVT BBNB BBNQ BBPI BBPU AWVO BBLY BBIO BBIS B...  \n",
       "15     AFJQ AEEU BRCL BREY BPHX BOXG BOZD BPRR BRHZ A...  \n",
       "16     BCVR BCXF BCXQ AXHT BCQW BCQZ BDGX AXJV BAPE B...  \n",
       "17                                   AZBT AZUC AWST AWTU  \n",
       "18     BRCL BREY BPHX BOXG BOZD BPRR BRHZ BOLX BNGV B...  \n",
       "19     AWFN BDWO BJOI AYGQ BIKP BDLY BIHG BIHX BIIC B...  \n",
       "20     BRCL BREY BPHX BOXG BOZD BPRR BRHZ BMDQ BBFK A...  \n",
       "21     AUOG ATAL ASXZ AVEW AFLI ATKM ATKO ATDV ATFA A...  \n",
       "22     AZBT AZUC AWST AWTU ARZL ASGG ASCU ASEJ ARZZ A...  \n",
       "23     BRCL BREY BPHX BOXG BOZD BPRR BRHZ AQFU BNRS B...  \n",
       "24     BNYM BNYQ BNYW BNZB BNOA BOSN BMLY BMQG BNEH B...  \n",
       "25     BRCL BREY BPHX BOXG BOZD BPRR BRHZ BMDQ BDEL B...  \n",
       "26     AYXP AZBT AZUC AWST AWTU AUOG ATAL ASXZ AVEW A...  \n",
       "27     BFDR AWMK AZUB AZUC BGUI AXQM AWLT AWLW AWKJ A...  \n",
       "28     AGCC AGDY AAFT BKZJ BMDQ AWVT BBNB BBNQ BBPI B...  \n",
       "29     BPNA BRCL BREY BPHX BOXG BOZD BPRR BRHZ BMDQ A...  \n",
       "...                                                  ...  \n",
       "36350  BAZF BBIC BBIF BBGG BFKU BEVZ AWYB AWLK BCJH B...  \n",
       "36351  BAZF BBIC BBIF BEVZ AWYB BDOZ BDPI AZTX AZUC A...  \n",
       "36352  BQKE BQEG BPMD BPNA BQLU BQDF BPFK BPEP BOXG B...  \n",
       "36353  BAQD AZVB AWIN AWIE AWJB BFFT AZUC AWST AWTU A...  \n",
       "36354  BPNM BPIQ BQHY BQKE BQEC BQEG BPMD BPNA BPPM B...  \n",
       "36355                      BPPM BPRR BRHZ ARVE AFLI AAWQ  \n",
       "36356  BBNQ BBPI BBPU AWVO BCAQ AWXB AZWU BAHE BAPE B...  \n",
       "36357  BPHX BOZD BPRR BRHZ AORC APAB APHP APMA AMOH A...  \n",
       "36358  BMDQ AYGL AXKC AWQA AWQD BGKH BGMO AZJS BAVM A...  \n",
       "36359  AXAM BGMK AXCC BEVZ AWYB BGKH BGMO BAVM AZUC A...  \n",
       "36360                                AAUU ARVE AFLI AAWQ  \n",
       "36361  BQIN BQKE BQEG BPNA BQLU BQDF BPRR BRHZ BCGI B...  \n",
       "36362  BPUR BPUT BPPM BPUV BPUW BPEP BOZD BPRR BRHZ A...  \n",
       "36363  BPUT BPPM BPUV BPUW BPRR BRHZ BMDQ BDWO BJOI B...  \n",
       "36364  BQIN BQKE BQEG BPNA BQLU BQDF BPRR BRHZ BCGI B...  \n",
       "36365  BQIF BQIN BQKE BQEG BPNA BQLU BQDF BOVG BOXG B...  \n",
       "36366                           AZCL AZBT AZUC AWST AWTU  \n",
       "36367  AKHN AHQH AHNO AHNP AHQI AGYD AHIR AHJZ AIBR A...  \n",
       "36368  BCAQ AWXB AZVB AWJB AXYA AXYH AXWD AXXF AYNH A...  \n",
       "36369  ANDQ AMLL AMOH AFJT AFJU AFLI AEYW AEVJ AENH A...  \n",
       "36370  AKHN AHQH AHNO AHNP AHQI AGYD AHIR AHJZ AIBR A...  \n",
       "36371  AKHN AHQH AHNO AHNP AHQI AGYD AHIR AHJZ AIBR A...  \n",
       "36372  BPPM BPRR BRHZ AWGJ AZWC AWJB AWST AWTU AHQI A...  \n",
       "36373  AKHN AHQH AHNO AHNP AHQI AGYD AHIR AHJZ AIBR A...  \n",
       "36374  AXYV AYDK BJBP AWST AWTU AAIA AANL AAKY AAMG A...  \n",
       "36375  AKHN AHQH AHNO AHNP AHQI AGYD AHIR AHJZ AIBR A...  \n",
       "36376  AKHN AHQH AHNO AHNP AHQI AGYD AHIR AHJZ AIBR A...  \n",
       "36377  AKHN AHQH AHNO AHNP AHQI AGYD AHIR AHJZ AIBR A...  \n",
       "36378                           ARNW AQUF AQZN ARAT AQTT  \n",
       "36379  ABPZ ABQG ABNC ABHT AAZP ABAS ABBE AAWQ AAKW A...  \n",
       "\n",
       "[36380 rows x 2 columns]"
      ]
     },
     "execution_count": 3,
     "metadata": {},
     "output_type": "execute_result"
    }
   ],
   "source": [
    "pd.read_csv(\"new_pro_geo_language\")"
   ]
  },
  {
   "cell_type": "code",
   "execution_count": null,
   "metadata": {},
   "outputs": [],
   "source": []
  }
 ],
 "metadata": {
  "kernelspec": {
   "display_name": "Python 2",
   "language": "python",
   "name": "python2"
  },
  "language_info": {
   "codemirror_mode": {
    "name": "ipython",
    "version": 2
   },
   "file_extension": ".py",
   "mimetype": "text/x-python",
   "name": "python",
   "nbconvert_exporter": "python",
   "pygments_lexer": "ipython2",
   "version": "2.7.15rc1"
  }
 },
 "nbformat": 4,
 "nbformat_minor": 2
}
